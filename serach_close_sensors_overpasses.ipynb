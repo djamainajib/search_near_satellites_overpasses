{
 "cells": [
  {
   "cell_type": "markdown",
   "id": "e8c24ebc-7e80-4ab1-82f0-b16043ad48c4",
   "metadata": {},
   "source": [
    "### Search near satellites overpasses\n",
    "\n",
    "This code search for satellites overpasses acquired during a given temporal gap (delta t) over a given point P. \n",
    "\n",
    "The actual version supports Sentinel-2, Landsat-8, Landsat-9 and Harmonised Landsat (HLS) sensors.\n",
    "\n",
    "User should specify:\n",
    "- the latitude/longitude of the point of interrest in EPSG:4326\n",
    "- the period of interrest startDate/endDate\n",
    "- the couple of satellites to considered \n",
    "- the maximum temporal gap between the selected acquisition (delta_t_max)\n",
    "\n",
    "The code outputs a FataFrame of all the satellites aquisitions (from 2 different sensors) within at short period of time (delta t).\n",
    "\n",
    "##### Example:\n",
    "\n",
    "* For the geo-location 37.42189 N, 122.08412 W, we can find 4 Sentinel-2 images acquired whithin 1 day maximum of a Landsat-8 image between March 1st and August 30th, 2020, \n",
    "\n",
    "<ins>Details (code output)<ins>\n",
    "\n",
    "| Collection_1 | lon_1 | lat_1 | id_1 | date_1 | Collection_2 | lon_2 | lat_2 | id_2 | date_2 |\n",
    "| -------- | ------- |-------- | ------- |-------- | ------- |-------- | ------- |-------- | ------- |\n",
    "|0|COPERNICUS/S2_SR_HARMONIZED |-122.084191|37.421928|20200504T184921_20200504T185732_T10SEG_0|2020-05-04|LANDSAT/LC08/C02/T1_L2|-122.084191|37.421928|LC08_044034_20200505_0|2020-05-05|\n",
    "|1| COPERNICUS/S2_SR_HARMONIZED|-122.084191|37.421928|20200623T184921_20200623T185629_T10SEG_0|2020-06-23|LANDSAT/LC08/C02/T1_L2|-122.084191|37.421928|LC08_044034_20200622_0|2020-06-22|\n",
    "|2|COPERNICUS/S2_SR_HARMONIZED|-122.084191|37.421928|20200708T184919_20200708T185408_T10SEG_0|2020-07-08|LANDSAT/LC08/C02/T1_L2|-122.084191|37.421928|LC08_044034_20200708_0|2020-07-08|\n",
    "|3|COPERNICUS/S2_SR_HARMONIZED|-122.084191|37.421928|20200723T184921_20200723T185433_T10SEG_0|2020-07-23|LANDSAT/LC08/C02/T1_L2|-122.084191|37.421928|LC08_044034_20200724_0|2020-07-24|\n",
    "\n",
    "    \n",
    "    \n",
    "    \n",
    "    ----------------------------------\n",
    "    Najib Djamai\n",
    "    March 28th, 2024"
   ]
  },
  {
   "cell_type": "code",
   "execution_count": 1,
   "id": "a864b740-a3f2-40de-bee9-c419517b2786",
   "metadata": {},
   "outputs": [],
   "source": [
    "import ee\n",
    "ee.Authenticate()\n",
    "ee.Initialize()"
   ]
  },
  {
   "cell_type": "code",
   "execution_count": 2,
   "id": "1dbfcd55-a5f7-44d9-bc69-7cbddb23a375",
   "metadata": {},
   "outputs": [],
   "source": [
    "from datetime import datetime\n",
    "import eoImage\n",
    "import pandas as pd\n",
    "import numpy as np\n",
    "import toolsHLS, toolsL8, toolsL9, toolsS2"
   ]
  },
  {
   "cell_type": "code",
   "execution_count": 24,
   "id": "9ab23bdd-4ea5-4469-a216-cebaed7d450b",
   "metadata": {},
   "outputs": [],
   "source": [
    "def search_overpass_dates (sensor,mapBounds,startDate,endDate,outputScaleSize=20,factor=1):\n",
    "    tools=eval('tools'+sensor)\n",
    "    print('CollectionName: '+tools.CollectionName())\n",
    "    productCollection =  ee.ImageCollection(tools.CollectionName()) \\\n",
    "                          .filterBounds(mapBounds) \\\n",
    "                          .filterDate(startDate, endDate) \\\n",
    "                          .filterMetadata(tools.Cloudcover(),'less_than',maxCloudcover) \\\n",
    "                          .limit(5000) \\\n",
    "                          .map(lambda image: image.clip(mapBounds)) \\\n",
    "                          .map(lambda image: tools.MaskClear(image))  \\\n",
    "                          .map(lambda image: eoImage.attach_Date(image)) \\\n",
    "                          .map(lambda image: eoImage.attach_LonLat(image)) \n",
    "                          \n",
    "    productCollection = ee.ImageCollection(productCollection)\n",
    "    outputScaleSize= ee.Number(outputScaleSize)\n",
    "    sampleData = productCollection.map(lambda image: image.sample(region=mapBounds, projection=image.select('date').projection(), scale=outputScaleSize,geometries=True, dropNulls = True, factor=factor) ).flatten()\n",
    "    sampleList=sampleData.getInfo()['features']\n",
    "    \n",
    "    sampleDF = pd.DataFrame(columns=['Collection','lon','lat','id','date'])\n",
    "    for col in sampleList:\n",
    "        sampleDF.loc[len(sampleDF)] = [tools.CollectionName(),col['geometry']['coordinates'][0],col['geometry']['coordinates'][1],col['id'],col['properties']['date']]\n",
    "    sampleDF['date'] = pd.to_datetime(sampleDF['date'],unit='ms').dt.date \n",
    "    return (sampleDF)    "
   ]
  },
  {
   "cell_type": "markdown",
   "id": "ee864078-055f-452d-b5ab-655cc4d37a9d",
   "metadata": {},
   "source": [
    "### 1 - Specifty point / area od interrest"
   ]
  },
  {
   "cell_type": "markdown",
   "id": "1b84db7c-7123-4800-92c0-16e75ae75c22",
   "metadata": {},
   "source": [
    "##### a. Define parameters"
   ]
  },
  {
   "cell_type": "code",
   "execution_count": 29,
   "id": "f9175003-9149-4d31-8f1a-e1cf92221973",
   "metadata": {},
   "outputs": [],
   "source": [
    "latitude=37.42189\n",
    "longitude=-122.08412\n",
    "startDate='2020-05-01'\n",
    "endDate='2020-08-30'\n",
    "sensor1='S2'\n",
    "sensor2='L8'\n",
    "delta_t_max=1 # maximum accepted period between sensors overpasses [in days]\n",
    "maxCloudcover=90"
   ]
  },
  {
   "cell_type": "markdown",
   "id": "de63af37-d2ee-47be-a0c9-4ed6c4a665c6",
   "metadata": {},
   "source": [
    "##### b. Processing"
   ]
  },
  {
   "cell_type": "code",
   "execution_count": 30,
   "id": "49001169-4acb-478a-985b-ed3f7cd6259f",
   "metadata": {},
   "outputs": [
    {
     "name": "stdout",
     "output_type": "stream",
     "text": [
      "CollectionName: COPERNICUS/S2_SR_HARMONIZED\n",
      "CollectionName: LANDSAT/LC08/C02/T1_L2\n"
     ]
    }
   ],
   "source": [
    "startDate = datetime.strptime(startDate,\"%Y-%m-%d\")\n",
    "endDate =  datetime.strptime(endDate,\"%Y-%m-%d\")\n",
    "mapBounds = ee.Geometry.Point([longitude, latitude])  # defaukt EPSG:4326\n",
    "\n",
    "df1=search_overpass_dates (sensor1,mapBounds,startDate,endDate)\n",
    "df2=search_overpass_dates (sensor2,mapBounds,startDate,endDate)"
   ]
  },
  {
   "cell_type": "code",
   "execution_count": 31,
   "id": "109eb032-3123-4c67-a732-27c1bc83baaf",
   "metadata": {},
   "outputs": [],
   "source": [
    "sampleDF = pd.DataFrame()\n",
    "for index, row in df1.iterrows():\n",
    "    idx=np.argmin(np.abs(df2['date']-row['date']))\n",
    "    if (np.abs(df2['date'][idx]-row['date'])).days<=delta_t_max: \n",
    "        aux=pd.concat([row.add_suffix('_1'), df2.loc[idx,:].add_suffix('_2')], axis=0)\n",
    "        aux=np.transpose(aux.to_frame())\n",
    "        sampleDF=pd.concat([sampleDF,aux])\n",
    "sampleDF=sampleDF.reset_index(drop=True)"
   ]
  },
  {
   "cell_type": "markdown",
   "id": "921c4833-eda8-4420-9af7-db6efc74a65f",
   "metadata": {},
   "source": [
    "##### c. Exporting"
   ]
  },
  {
   "cell_type": "code",
   "execution_count": 32,
   "id": "b84916c8-7bf9-4c0c-b81c-855eaeb6bcb2",
   "metadata": {},
   "outputs": [
    {
     "data": {
      "text/html": [
       "<div>\n",
       "<style scoped>\n",
       "    .dataframe tbody tr th:only-of-type {\n",
       "        vertical-align: middle;\n",
       "    }\n",
       "\n",
       "    .dataframe tbody tr th {\n",
       "        vertical-align: top;\n",
       "    }\n",
       "\n",
       "    .dataframe thead th {\n",
       "        text-align: right;\n",
       "    }\n",
       "</style>\n",
       "<table border=\"1\" class=\"dataframe\">\n",
       "  <thead>\n",
       "    <tr style=\"text-align: right;\">\n",
       "      <th></th>\n",
       "      <th>Collection_1</th>\n",
       "      <th>lon_1</th>\n",
       "      <th>lat_1</th>\n",
       "      <th>id_1</th>\n",
       "      <th>date_1</th>\n",
       "      <th>Collection_2</th>\n",
       "      <th>lon_2</th>\n",
       "      <th>lat_2</th>\n",
       "      <th>id_2</th>\n",
       "      <th>date_2</th>\n",
       "    </tr>\n",
       "  </thead>\n",
       "  <tbody>\n",
       "    <tr>\n",
       "      <th>0</th>\n",
       "      <td>COPERNICUS/S2_SR_HARMONIZED</td>\n",
       "      <td>-122.084191</td>\n",
       "      <td>37.421928</td>\n",
       "      <td>20200504T184921_20200504T185732_T10SEG_0</td>\n",
       "      <td>2020-05-04</td>\n",
       "      <td>LANDSAT/LC08/C02/T1_L2</td>\n",
       "      <td>-122.084191</td>\n",
       "      <td>37.421928</td>\n",
       "      <td>LC08_044034_20200505_0</td>\n",
       "      <td>2020-05-05</td>\n",
       "    </tr>\n",
       "    <tr>\n",
       "      <th>1</th>\n",
       "      <td>COPERNICUS/S2_SR_HARMONIZED</td>\n",
       "      <td>-122.084191</td>\n",
       "      <td>37.421928</td>\n",
       "      <td>20200623T184921_20200623T185629_T10SEG_0</td>\n",
       "      <td>2020-06-23</td>\n",
       "      <td>LANDSAT/LC08/C02/T1_L2</td>\n",
       "      <td>-122.084191</td>\n",
       "      <td>37.421928</td>\n",
       "      <td>LC08_044034_20200622_0</td>\n",
       "      <td>2020-06-22</td>\n",
       "    </tr>\n",
       "    <tr>\n",
       "      <th>2</th>\n",
       "      <td>COPERNICUS/S2_SR_HARMONIZED</td>\n",
       "      <td>-122.084191</td>\n",
       "      <td>37.421928</td>\n",
       "      <td>20200708T184919_20200708T185408_T10SEG_0</td>\n",
       "      <td>2020-07-08</td>\n",
       "      <td>LANDSAT/LC08/C02/T1_L2</td>\n",
       "      <td>-122.084191</td>\n",
       "      <td>37.421928</td>\n",
       "      <td>LC08_044034_20200708_0</td>\n",
       "      <td>2020-07-08</td>\n",
       "    </tr>\n",
       "    <tr>\n",
       "      <th>3</th>\n",
       "      <td>COPERNICUS/S2_SR_HARMONIZED</td>\n",
       "      <td>-122.084191</td>\n",
       "      <td>37.421928</td>\n",
       "      <td>20200723T184921_20200723T185433_T10SEG_0</td>\n",
       "      <td>2020-07-23</td>\n",
       "      <td>LANDSAT/LC08/C02/T1_L2</td>\n",
       "      <td>-122.084191</td>\n",
       "      <td>37.421928</td>\n",
       "      <td>LC08_044034_20200724_0</td>\n",
       "      <td>2020-07-24</td>\n",
       "    </tr>\n",
       "  </tbody>\n",
       "</table>\n",
       "</div>"
      ],
      "text/plain": [
       "                  Collection_1       lon_1      lat_1  \\\n",
       "0  COPERNICUS/S2_SR_HARMONIZED -122.084191  37.421928   \n",
       "1  COPERNICUS/S2_SR_HARMONIZED -122.084191  37.421928   \n",
       "2  COPERNICUS/S2_SR_HARMONIZED -122.084191  37.421928   \n",
       "3  COPERNICUS/S2_SR_HARMONIZED -122.084191  37.421928   \n",
       "\n",
       "                                       id_1      date_1  \\\n",
       "0  20200504T184921_20200504T185732_T10SEG_0  2020-05-04   \n",
       "1  20200623T184921_20200623T185629_T10SEG_0  2020-06-23   \n",
       "2  20200708T184919_20200708T185408_T10SEG_0  2020-07-08   \n",
       "3  20200723T184921_20200723T185433_T10SEG_0  2020-07-23   \n",
       "\n",
       "             Collection_2       lon_2      lat_2                    id_2  \\\n",
       "0  LANDSAT/LC08/C02/T1_L2 -122.084191  37.421928  LC08_044034_20200505_0   \n",
       "1  LANDSAT/LC08/C02/T1_L2 -122.084191  37.421928  LC08_044034_20200622_0   \n",
       "2  LANDSAT/LC08/C02/T1_L2 -122.084191  37.421928  LC08_044034_20200708_0   \n",
       "3  LANDSAT/LC08/C02/T1_L2 -122.084191  37.421928  LC08_044034_20200724_0   \n",
       "\n",
       "       date_2  \n",
       "0  2020-05-05  \n",
       "1  2020-06-22  \n",
       "2  2020-07-08  \n",
       "3  2020-07-24  "
      ]
     },
     "execution_count": 32,
     "metadata": {},
     "output_type": "execute_result"
    }
   ],
   "source": [
    "sampleDF"
   ]
  },
  {
   "cell_type": "code",
   "execution_count": null,
   "id": "7825c0b8-dc22-4f83-b9db-e108e733ed17",
   "metadata": {},
   "outputs": [],
   "source": []
  },
  {
   "cell_type": "code",
   "execution_count": null,
   "id": "13ad2174-54fb-465e-bed6-7f840fe197a1",
   "metadata": {},
   "outputs": [],
   "source": []
  }
 ],
 "metadata": {
  "kernelspec": {
   "display_name": "Python 3 (ipykernel)",
   "language": "python",
   "name": "python3"
  },
  "language_info": {
   "codemirror_mode": {
    "name": "ipython",
    "version": 3
   },
   "file_extension": ".py",
   "mimetype": "text/x-python",
   "name": "python",
   "nbconvert_exporter": "python",
   "pygments_lexer": "ipython3",
   "version": "3.11.5"
  }
 },
 "nbformat": 4,
 "nbformat_minor": 5
}
